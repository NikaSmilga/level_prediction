{
  "nbformat": 4,
  "nbformat_minor": 0,
  "metadata": {
    "colab": {
      "name": "level_prediction.ipynb",
      "provenance": [],
      "collapsed_sections": []
    },
    "kernelspec": {
      "name": "python3",
      "display_name": "Python 3"
    },
    "widgets": {
      "application/vnd.jupyter.widget-state+json": {
        "7b583e1586b246f790c1b1b876b109d7": {
          "model_module": "@jupyter-widgets/controls",
          "model_name": "HBoxModel",
          "state": {
            "_view_name": "HBoxView",
            "_dom_classes": [],
            "_model_name": "HBoxModel",
            "_view_module": "@jupyter-widgets/controls",
            "_model_module_version": "1.5.0",
            "_view_count": null,
            "_view_module_version": "1.5.0",
            "box_style": "",
            "layout": "IPY_MODEL_b24ba0c8a6fe45928cedb1b56396c538",
            "_model_module": "@jupyter-widgets/controls",
            "children": [
              "IPY_MODEL_b88ae614eb3a4fccb27e3ade5b0c3410",
              "IPY_MODEL_6e218ff892d7427397a91848c42ba8d6"
            ]
          }
        },
        "b24ba0c8a6fe45928cedb1b56396c538": {
          "model_module": "@jupyter-widgets/base",
          "model_name": "LayoutModel",
          "state": {
            "_view_name": "LayoutView",
            "grid_template_rows": null,
            "right": null,
            "justify_content": null,
            "_view_module": "@jupyter-widgets/base",
            "overflow": null,
            "_model_module_version": "1.2.0",
            "_view_count": null,
            "flex_flow": null,
            "width": null,
            "min_width": null,
            "border": null,
            "align_items": null,
            "bottom": null,
            "_model_module": "@jupyter-widgets/base",
            "top": null,
            "grid_column": null,
            "overflow_y": null,
            "overflow_x": null,
            "grid_auto_flow": null,
            "grid_area": null,
            "grid_template_columns": null,
            "flex": null,
            "_model_name": "LayoutModel",
            "justify_items": null,
            "grid_row": null,
            "max_height": null,
            "align_content": null,
            "visibility": null,
            "align_self": null,
            "height": null,
            "min_height": null,
            "padding": null,
            "grid_auto_rows": null,
            "grid_gap": null,
            "max_width": null,
            "order": null,
            "_view_module_version": "1.2.0",
            "grid_template_areas": null,
            "object_position": null,
            "object_fit": null,
            "grid_auto_columns": null,
            "margin": null,
            "display": null,
            "left": null
          }
        },
        "b88ae614eb3a4fccb27e3ade5b0c3410": {
          "model_module": "@jupyter-widgets/controls",
          "model_name": "FloatProgressModel",
          "state": {
            "_view_name": "ProgressView",
            "style": "IPY_MODEL_608a7eecd876404d83bfd90c29b59113",
            "_dom_classes": [],
            "description": "100%",
            "_model_name": "FloatProgressModel",
            "bar_style": "success",
            "max": 17331,
            "_view_module": "@jupyter-widgets/controls",
            "_model_module_version": "1.5.0",
            "value": 17331,
            "_view_count": null,
            "_view_module_version": "1.5.0",
            "orientation": "horizontal",
            "min": 0,
            "description_tooltip": null,
            "_model_module": "@jupyter-widgets/controls",
            "layout": "IPY_MODEL_127b809946a64508a12e9b473d167650"
          }
        },
        "6e218ff892d7427397a91848c42ba8d6": {
          "model_module": "@jupyter-widgets/controls",
          "model_name": "HTMLModel",
          "state": {
            "_view_name": "HTMLView",
            "style": "IPY_MODEL_e812fb4a8caa485eaf24a2918e97b87a",
            "_dom_classes": [],
            "description": "",
            "_model_name": "HTMLModel",
            "placeholder": "​",
            "_view_module": "@jupyter-widgets/controls",
            "_model_module_version": "1.5.0",
            "value": " 17331/17331 [12:49&lt;00:00, 22.54it/s]",
            "_view_count": null,
            "_view_module_version": "1.5.0",
            "description_tooltip": null,
            "_model_module": "@jupyter-widgets/controls",
            "layout": "IPY_MODEL_8b47b76f3e8742dd94b06660f0e3badc"
          }
        },
        "608a7eecd876404d83bfd90c29b59113": {
          "model_module": "@jupyter-widgets/controls",
          "model_name": "ProgressStyleModel",
          "state": {
            "_view_name": "StyleView",
            "_model_name": "ProgressStyleModel",
            "description_width": "initial",
            "_view_module": "@jupyter-widgets/base",
            "_model_module_version": "1.5.0",
            "_view_count": null,
            "_view_module_version": "1.2.0",
            "bar_color": null,
            "_model_module": "@jupyter-widgets/controls"
          }
        },
        "127b809946a64508a12e9b473d167650": {
          "model_module": "@jupyter-widgets/base",
          "model_name": "LayoutModel",
          "state": {
            "_view_name": "LayoutView",
            "grid_template_rows": null,
            "right": null,
            "justify_content": null,
            "_view_module": "@jupyter-widgets/base",
            "overflow": null,
            "_model_module_version": "1.2.0",
            "_view_count": null,
            "flex_flow": null,
            "width": null,
            "min_width": null,
            "border": null,
            "align_items": null,
            "bottom": null,
            "_model_module": "@jupyter-widgets/base",
            "top": null,
            "grid_column": null,
            "overflow_y": null,
            "overflow_x": null,
            "grid_auto_flow": null,
            "grid_area": null,
            "grid_template_columns": null,
            "flex": null,
            "_model_name": "LayoutModel",
            "justify_items": null,
            "grid_row": null,
            "max_height": null,
            "align_content": null,
            "visibility": null,
            "align_self": null,
            "height": null,
            "min_height": null,
            "padding": null,
            "grid_auto_rows": null,
            "grid_gap": null,
            "max_width": null,
            "order": null,
            "_view_module_version": "1.2.0",
            "grid_template_areas": null,
            "object_position": null,
            "object_fit": null,
            "grid_auto_columns": null,
            "margin": null,
            "display": null,
            "left": null
          }
        },
        "e812fb4a8caa485eaf24a2918e97b87a": {
          "model_module": "@jupyter-widgets/controls",
          "model_name": "DescriptionStyleModel",
          "state": {
            "_view_name": "StyleView",
            "_model_name": "DescriptionStyleModel",
            "description_width": "",
            "_view_module": "@jupyter-widgets/base",
            "_model_module_version": "1.5.0",
            "_view_count": null,
            "_view_module_version": "1.2.0",
            "_model_module": "@jupyter-widgets/controls"
          }
        },
        "8b47b76f3e8742dd94b06660f0e3badc": {
          "model_module": "@jupyter-widgets/base",
          "model_name": "LayoutModel",
          "state": {
            "_view_name": "LayoutView",
            "grid_template_rows": null,
            "right": null,
            "justify_content": null,
            "_view_module": "@jupyter-widgets/base",
            "overflow": null,
            "_model_module_version": "1.2.0",
            "_view_count": null,
            "flex_flow": null,
            "width": null,
            "min_width": null,
            "border": null,
            "align_items": null,
            "bottom": null,
            "_model_module": "@jupyter-widgets/base",
            "top": null,
            "grid_column": null,
            "overflow_y": null,
            "overflow_x": null,
            "grid_auto_flow": null,
            "grid_area": null,
            "grid_template_columns": null,
            "flex": null,
            "_model_name": "LayoutModel",
            "justify_items": null,
            "grid_row": null,
            "max_height": null,
            "align_content": null,
            "visibility": null,
            "align_self": null,
            "height": null,
            "min_height": null,
            "padding": null,
            "grid_auto_rows": null,
            "grid_gap": null,
            "max_width": null,
            "order": null,
            "_view_module_version": "1.2.0",
            "grid_template_areas": null,
            "object_position": null,
            "object_fit": null,
            "grid_auto_columns": null,
            "margin": null,
            "display": null,
            "left": null
          }
        },
        "06c3fbb8859d46e49687f5f2388b7b2f": {
          "model_module": "@jupyter-widgets/controls",
          "model_name": "HBoxModel",
          "state": {
            "_view_name": "HBoxView",
            "_dom_classes": [],
            "_model_name": "HBoxModel",
            "_view_module": "@jupyter-widgets/controls",
            "_model_module_version": "1.5.0",
            "_view_count": null,
            "_view_module_version": "1.5.0",
            "box_style": "",
            "layout": "IPY_MODEL_544ee5f961cd4aedb235d5eaf95c4a53",
            "_model_module": "@jupyter-widgets/controls",
            "children": [
              "IPY_MODEL_e901c3a979514ba98b43d2f865e2e4c0",
              "IPY_MODEL_47a26c3237b549cd8d05a4530facde88"
            ]
          }
        },
        "544ee5f961cd4aedb235d5eaf95c4a53": {
          "model_module": "@jupyter-widgets/base",
          "model_name": "LayoutModel",
          "state": {
            "_view_name": "LayoutView",
            "grid_template_rows": null,
            "right": null,
            "justify_content": null,
            "_view_module": "@jupyter-widgets/base",
            "overflow": null,
            "_model_module_version": "1.2.0",
            "_view_count": null,
            "flex_flow": null,
            "width": null,
            "min_width": null,
            "border": null,
            "align_items": null,
            "bottom": null,
            "_model_module": "@jupyter-widgets/base",
            "top": null,
            "grid_column": null,
            "overflow_y": null,
            "overflow_x": null,
            "grid_auto_flow": null,
            "grid_area": null,
            "grid_template_columns": null,
            "flex": null,
            "_model_name": "LayoutModel",
            "justify_items": null,
            "grid_row": null,
            "max_height": null,
            "align_content": null,
            "visibility": null,
            "align_self": null,
            "height": null,
            "min_height": null,
            "padding": null,
            "grid_auto_rows": null,
            "grid_gap": null,
            "max_width": null,
            "order": null,
            "_view_module_version": "1.2.0",
            "grid_template_areas": null,
            "object_position": null,
            "object_fit": null,
            "grid_auto_columns": null,
            "margin": null,
            "display": null,
            "left": null
          }
        },
        "e901c3a979514ba98b43d2f865e2e4c0": {
          "model_module": "@jupyter-widgets/controls",
          "model_name": "FloatProgressModel",
          "state": {
            "_view_name": "ProgressView",
            "style": "IPY_MODEL_cc1e690b5788490ba8fbac393ab954aa",
            "_dom_classes": [],
            "description": "100%",
            "_model_name": "FloatProgressModel",
            "bar_style": "success",
            "max": 217655,
            "_view_module": "@jupyter-widgets/controls",
            "_model_module_version": "1.5.0",
            "value": 217655,
            "_view_count": null,
            "_view_module_version": "1.5.0",
            "orientation": "horizontal",
            "min": 0,
            "description_tooltip": null,
            "_model_module": "@jupyter-widgets/controls",
            "layout": "IPY_MODEL_2eab80df42da43d191d5bfec53692117"
          }
        },
        "47a26c3237b549cd8d05a4530facde88": {
          "model_module": "@jupyter-widgets/controls",
          "model_name": "HTMLModel",
          "state": {
            "_view_name": "HTMLView",
            "style": "IPY_MODEL_91b296f0bcc44175a7876e3411176307",
            "_dom_classes": [],
            "description": "",
            "_model_name": "HTMLModel",
            "placeholder": "​",
            "_view_module": "@jupyter-widgets/controls",
            "_model_module_version": "1.5.0",
            "value": " 217655/217655 [10:55&lt;00:00, 332.09it/s]",
            "_view_count": null,
            "_view_module_version": "1.5.0",
            "description_tooltip": null,
            "_model_module": "@jupyter-widgets/controls",
            "layout": "IPY_MODEL_064fe09f352d4bccbe0d2be630a70c4c"
          }
        },
        "cc1e690b5788490ba8fbac393ab954aa": {
          "model_module": "@jupyter-widgets/controls",
          "model_name": "ProgressStyleModel",
          "state": {
            "_view_name": "StyleView",
            "_model_name": "ProgressStyleModel",
            "description_width": "initial",
            "_view_module": "@jupyter-widgets/base",
            "_model_module_version": "1.5.0",
            "_view_count": null,
            "_view_module_version": "1.2.0",
            "bar_color": null,
            "_model_module": "@jupyter-widgets/controls"
          }
        },
        "2eab80df42da43d191d5bfec53692117": {
          "model_module": "@jupyter-widgets/base",
          "model_name": "LayoutModel",
          "state": {
            "_view_name": "LayoutView",
            "grid_template_rows": null,
            "right": null,
            "justify_content": null,
            "_view_module": "@jupyter-widgets/base",
            "overflow": null,
            "_model_module_version": "1.2.0",
            "_view_count": null,
            "flex_flow": null,
            "width": null,
            "min_width": null,
            "border": null,
            "align_items": null,
            "bottom": null,
            "_model_module": "@jupyter-widgets/base",
            "top": null,
            "grid_column": null,
            "overflow_y": null,
            "overflow_x": null,
            "grid_auto_flow": null,
            "grid_area": null,
            "grid_template_columns": null,
            "flex": null,
            "_model_name": "LayoutModel",
            "justify_items": null,
            "grid_row": null,
            "max_height": null,
            "align_content": null,
            "visibility": null,
            "align_self": null,
            "height": null,
            "min_height": null,
            "padding": null,
            "grid_auto_rows": null,
            "grid_gap": null,
            "max_width": null,
            "order": null,
            "_view_module_version": "1.2.0",
            "grid_template_areas": null,
            "object_position": null,
            "object_fit": null,
            "grid_auto_columns": null,
            "margin": null,
            "display": null,
            "left": null
          }
        },
        "91b296f0bcc44175a7876e3411176307": {
          "model_module": "@jupyter-widgets/controls",
          "model_name": "DescriptionStyleModel",
          "state": {
            "_view_name": "StyleView",
            "_model_name": "DescriptionStyleModel",
            "description_width": "",
            "_view_module": "@jupyter-widgets/base",
            "_model_module_version": "1.5.0",
            "_view_count": null,
            "_view_module_version": "1.2.0",
            "_model_module": "@jupyter-widgets/controls"
          }
        },
        "064fe09f352d4bccbe0d2be630a70c4c": {
          "model_module": "@jupyter-widgets/base",
          "model_name": "LayoutModel",
          "state": {
            "_view_name": "LayoutView",
            "grid_template_rows": null,
            "right": null,
            "justify_content": null,
            "_view_module": "@jupyter-widgets/base",
            "overflow": null,
            "_model_module_version": "1.2.0",
            "_view_count": null,
            "flex_flow": null,
            "width": null,
            "min_width": null,
            "border": null,
            "align_items": null,
            "bottom": null,
            "_model_module": "@jupyter-widgets/base",
            "top": null,
            "grid_column": null,
            "overflow_y": null,
            "overflow_x": null,
            "grid_auto_flow": null,
            "grid_area": null,
            "grid_template_columns": null,
            "flex": null,
            "_model_name": "LayoutModel",
            "justify_items": null,
            "grid_row": null,
            "max_height": null,
            "align_content": null,
            "visibility": null,
            "align_self": null,
            "height": null,
            "min_height": null,
            "padding": null,
            "grid_auto_rows": null,
            "grid_gap": null,
            "max_width": null,
            "order": null,
            "_view_module_version": "1.2.0",
            "grid_template_areas": null,
            "object_position": null,
            "object_fit": null,
            "grid_auto_columns": null,
            "margin": null,
            "display": null,
            "left": null
          }
        }
      }
    }
  },
  "cells": [
    {
      "cell_type": "code",
      "metadata": {
        "id": "xpXiDt5khx6X",
        "colab_type": "code",
        "colab": {}
      },
      "source": [
        "import os\n",
        "import pandas as pd\n",
        "import numpy as np\n",
        "import matplotlib.pyplot as plt\n",
        "import collections\n",
        "from tqdm import tqdm_notebook as tqdm\n",
        "from sklearn.ensemble import GradientBoostingClassifier\n",
        "from sklearn.ensemble import GradientBoostingRegressor\n",
        "from sklearn import ensemble\n",
        "from sklearn import datasets\n",
        "from sklearn.utils import shuffle\n",
        "from sklearn.metrics import accuracy_score\n",
        "from sklearn.metrics import mean_absolute_error\n",
        "from sklearn.metrics import confusion_matrix\n",
        "from sklearn.metrics import classification_report\n",
        "from sklearn.model_selection import train_test_split\n",
        "from sklearn.ensemble import RandomForestClassifier\n",
        "import xgboost as xgb"
      ],
      "execution_count": 0,
      "outputs": []
    },
    {
      "cell_type": "code",
      "metadata": {
        "id": "BcU4iRQah4sl",
        "colab_type": "code",
        "colab": {
          "base_uri": "https://localhost:8080/",
          "height": 209
        },
        "outputId": "d17c91b1-fcc5-4e03-9c13-1a8facfdd3d0"
      },
      "source": [
        "from google.colab import drive\n",
        "drive.mount('/content/drive')"
      ],
      "execution_count": 1,
      "outputs": [
        {
          "output_type": "stream",
          "text": [
            "Go to this URL in a browser: https://accounts.google.com/o/oauth2/auth?client_id=947318989803-6bn6qk8qdgf4n4g3pfee6491hc0brc4i.apps.googleusercontent.com&redirect_uri=urn%3aietf%3awg%3aoauth%3a2.0%3aoob&response_type=code&scope=email%20https%3a%2f%2fwww.googleapis.com%2fauth%2fdocs.test%20https%3a%2f%2fwww.googleapis.com%2fauth%2fdrive%20https%3a%2f%2fwww.googleapis.com%2fauth%2fdrive.photos.readonly%20https%3a%2f%2fwww.googleapis.com%2fauth%2fpeopleapi.readonly\n",
            "\n",
            "Enter your authorization code:\n",
            "··········\n",
            "Mounted at /content/drive\n"
          ],
          "name": "stdout"
        }
      ]
    },
    {
      "cell_type": "markdown",
      "metadata": {
        "id": "QRRs3c6w2eqj",
        "colab_type": "text"
      },
      "source": [
        "Загружаем файлы с чертами сложностью для текстов РЕАЛЕК, избавляемся от ненужной информации."
      ]
    },
    {
      "cell_type": "code",
      "metadata": {
        "id": "dq5fXZ-Hh41J",
        "colab_type": "code",
        "colab": {}
      },
      "source": [
        "rlc2 = pd.read_excel('/content/drive/My Drive/rlc_proc_marks70.xlsx')\n",
        "nrlc_drop = rlc2.drop('Unnamed: 0', axis=1)\n",
        "nrlc_drop = nrlc_drop.drop('Unnamed: 0.1', axis=1)\n",
        "nrlc_drop = nrlc_drop.drop('date', axis=1)\n",
        "nrlc_drop = nrlc_drop.drop('department', axis=1)\n",
        "nrlc_drop = nrlc_drop.drop('ielts', axis=1)\n",
        "nrlc_drop = nrlc_drop.drop('Text', axis=1)\n",
        "nrlc_drop = nrlc_drop.drop('sex', axis=1)\n",
        "nrlc_drop = nrlc_drop.drop('study_year', axis=1)\n",
        "nrlc_drop = nrlc_drop.drop('text_type', axis=1)\n",
        "nrlc_drop = nrlc_drop.drop('work_type', axis=1)\n",
        "nrlc_drop = nrlc_drop.drop('Folder', axis=1)\n",
        "rlc_3 = nrlc_drop.copy()"
      ],
      "execution_count": 0,
      "outputs": []
    },
    {
      "cell_type": "markdown",
      "metadata": {
        "id": "Q6PdXmr-2nqs",
        "colab_type": "text"
      },
      "source": [
        "Переводим оценки из стобалльной шкалы в шкалу CEFR\n"
      ]
    },
    {
      "cell_type": "code",
      "metadata": {
        "id": "4PKLughih48J",
        "colab_type": "code",
        "colab": {
          "base_uri": "https://localhost:8080/",
          "height": 34
        },
        "outputId": "aafc25a9-8ae0-440a-ecee-8c19532b4769"
      },
      "source": [
        "for i in rlc_3.index.values.tolist():\n",
        "    if rlc_3.loc[i, 'mark'] < 50:\n",
        "        rlc_3.loc[i, 'mark'] = 'C'\n",
        "    elif rlc_3.loc[i, 'mark'] >= 50 and rlc_3.loc[i, 'mark'] <= 60:\n",
        "        rlc_3.loc[i, 'mark'] = 'B'\n",
        "    elif rlc_3.loc[i, 'mark'] > 60:\n",
        "        rlc_3.loc[i, 'mark'] = 'A'\n",
        "mark = []\n",
        "for i in rlc_3['mark']:\n",
        "    mark.append(i)\n",
        "print(collections.Counter(mark))"
      ],
      "execution_count": 10,
      "outputs": [
        {
          "output_type": "stream",
          "text": [
            "Counter({'B': 1831, 'A': 879, 'C': 152})\n"
          ],
          "name": "stdout"
        }
      ]
    },
    {
      "cell_type": "markdown",
      "metadata": {
        "id": "Fmnw6udI21LQ",
        "colab_type": "text"
      },
      "source": [
        "Разбиваем данные на тренировочную и тестовую выборку, добавляем рандомную черту."
      ]
    },
    {
      "cell_type": "code",
      "metadata": {
        "id": "ZXKQv2hyh5Cl",
        "colab_type": "code",
        "colab": {}
      },
      "source": [
        "columns = rlc_3.columns[1:]\n",
        "X = rlc_3[columns]\n",
        "X['random'] = np.random.random(size = len(X))\n",
        "y = rlc_3['mark']\n",
        "X_train, X_test, y_train, y_test = train_test_split(X, y, test_size=0.3, random_state=42)"
      ],
      "execution_count": 0,
      "outputs": []
    },
    {
      "cell_type": "code",
      "metadata": {
        "id": "-glqCXZ9h5Js",
        "colab_type": "code",
        "colab": {
          "base_uri": "https://localhost:8080/",
          "height": 440
        },
        "outputId": "b497e04e-f9cc-40be-c6de-8f5378347e61"
      },
      "source": [
        "!pip install catboost\n",
        "from catboost import CatBoostClassifier, Pool"
      ],
      "execution_count": 12,
      "outputs": [
        {
          "output_type": "stream",
          "text": [
            "Collecting catboost\n",
            "\u001b[?25l  Downloading https://files.pythonhosted.org/packages/b2/aa/e61819d04ef2bbee778bf4b3a748db1f3ad23512377e43ecfdc3211437a0/catboost-0.23.2-cp36-none-manylinux1_x86_64.whl (64.8MB)\n",
            "\u001b[K     |████████████████████████████████| 64.8MB 61kB/s \n",
            "\u001b[?25hRequirement already satisfied: matplotlib in /usr/local/lib/python3.6/dist-packages (from catboost) (3.2.1)\n",
            "Requirement already satisfied: six in /usr/local/lib/python3.6/dist-packages (from catboost) (1.12.0)\n",
            "Requirement already satisfied: graphviz in /usr/local/lib/python3.6/dist-packages (from catboost) (0.10.1)\n",
            "Requirement already satisfied: pandas>=0.24.0 in /usr/local/lib/python3.6/dist-packages (from catboost) (1.0.3)\n",
            "Requirement already satisfied: plotly in /usr/local/lib/python3.6/dist-packages (from catboost) (4.4.1)\n",
            "Requirement already satisfied: scipy in /usr/local/lib/python3.6/dist-packages (from catboost) (1.4.1)\n",
            "Requirement already satisfied: numpy>=1.16.0 in /usr/local/lib/python3.6/dist-packages (from catboost) (1.18.4)\n",
            "Requirement already satisfied: cycler>=0.10 in /usr/local/lib/python3.6/dist-packages (from matplotlib->catboost) (0.10.0)\n",
            "Requirement already satisfied: pyparsing!=2.0.4,!=2.1.2,!=2.1.6,>=2.0.1 in /usr/local/lib/python3.6/dist-packages (from matplotlib->catboost) (2.4.7)\n",
            "Requirement already satisfied: python-dateutil>=2.1 in /usr/local/lib/python3.6/dist-packages (from matplotlib->catboost) (2.8.1)\n",
            "Requirement already satisfied: kiwisolver>=1.0.1 in /usr/local/lib/python3.6/dist-packages (from matplotlib->catboost) (1.2.0)\n",
            "Requirement already satisfied: pytz>=2017.2 in /usr/local/lib/python3.6/dist-packages (from pandas>=0.24.0->catboost) (2018.9)\n",
            "Requirement already satisfied: retrying>=1.3.3 in /usr/local/lib/python3.6/dist-packages (from plotly->catboost) (1.3.3)\n",
            "Installing collected packages: catboost\n",
            "Successfully installed catboost-0.23.2\n"
          ],
          "name": "stdout"
        }
      ]
    },
    {
      "cell_type": "markdown",
      "metadata": {
        "id": "Mm5u99v33Ebe",
        "colab_type": "text"
      },
      "source": [
        "**Модель для 66 черт сложности на данных REALEC**"
      ]
    },
    {
      "cell_type": "code",
      "metadata": {
        "id": "zYqqraoSh5Tt",
        "colab_type": "code",
        "colab": {
          "base_uri": "https://localhost:8080/",
          "height": 823
        },
        "outputId": "bb868500-3f86-4c66-e7c9-d32b4b2d556e"
      },
      "source": [
        "X_train, X_test, y_train, y_test = train_test_split(X, y, test_size=0.3, random_state=42)\n",
        "model = CatBoostClassifier(\n",
        "    n_estimators = 156,\n",
        "    depth = 5,\n",
        "    learning_rate=0.2,\n",
        "    l2_leaf_reg = 0.5,\n",
        "    custom_loss=['Accuracy'],\n",
        "    random_seed=42,\n",
        "    logging_level='Silent'\n",
        ")\n",
        "model.fit(\n",
        "    X_train, y_train,\n",
        "    eval_set=(X_test, y_test),\n",
        ");\n",
        "predictions = model.predict(X_test)\n",
        "print(\"Confusion Matrix:\")\n",
        "print(confusion_matrix(y_test, predictions))\n",
        "\n",
        "print(\"Classification Report\")\n",
        "print(classification_report(y_test, predictions))\n",
        "fi = model.get_feature_importance(Pool(X_test, label=y_test))\n",
        "feature_score = pd.DataFrame(list(zip(X_test.dtypes.index, fi )), columns=['Feature','Score'])\n",
        "\n",
        "feature_score = feature_score.sort_values(by='Score', ascending=False, inplace=False, kind='quicksort', na_position='last')\n",
        "\n",
        "plt.rcParams[\"figure.figsize\"] = (18,7)\n",
        "ax = feature_score.plot('Feature', 'Score', kind='bar', color='c')\n",
        "ax.set_title(\"REALEC, 66 features\", fontsize = 14)\n",
        "ax.set_xlabel(\"features\")\n",
        "plt.show()"
      ],
      "execution_count": 109,
      "outputs": [
        {
          "output_type": "stream",
          "text": [
            "Confusion Matrix:\n",
            "[[ 74 187   0]\n",
            " [ 35 513   7]\n",
            " [  0  20  23]]\n",
            "Classification Report\n",
            "              precision    recall  f1-score   support\n",
            "\n",
            "           A       0.68      0.28      0.40       261\n",
            "           B       0.71      0.92      0.80       555\n",
            "           C       0.77      0.53      0.63        43\n",
            "\n",
            "    accuracy                           0.71       859\n",
            "   macro avg       0.72      0.58      0.61       859\n",
            "weighted avg       0.71      0.71      0.67       859\n",
            "\n"
          ],
          "name": "stdout"
        },
        {
          "output_type": "display_data",
          "data": {
            "image/png": "[encoded data removed]",
            "text/plain": [
              "<Figure size 1296x504 with 1 Axes>"
            ]
          },
          "metadata": {
            "tags": [],
            "needs_background": "light"
          }
        }
      ]
    },
    {
      "cell_type": "markdown",
      "metadata": {
        "id": "ZjT9mOKR3PAx",
        "colab_type": "text"
      },
      "source": [
        "**Модель для 41 черты сложности на данных REALEC**"
      ]
    },
    {
      "cell_type": "code",
      "metadata": {
        "id": "B2W9U3c6lZSd",
        "colab_type": "code",
        "colab": {
          "base_uri": "https://localhost:8080/",
          "height": 799
        },
        "outputId": "761e11ef-2253-433e-8445-0e04fa3c199f"
      },
      "source": [
        "removed = ['lv',  'num_rel_cl','num_advcl','pos_sim_nei','pos_sim_all', 'lemma_sim_all', 'lfp_2000', \n",
        "           'lfp_rest', 'adjv', 'advv', 'num_4grams', 'ttr', 'root_ttr', 'log_ttr', 'uber_ttr', 'd',\n",
        "           'vvi', 'squared_vv', 'vvii', 'lfp_uwl', 'vs', 'squared_vs','num_tu','num_compl_tu','num_misspelled_tokens','million_mistake',\n",
        "           'num_sent', 'ndw', 'num_cl', 'num_func_ngrams']\n",
        "for i in removed:\n",
        "  X = X.drop(i, 1)\n",
        "X_train_d, X_test_d, y_train_d, y_test_d = train_test_split(X, y, test_size=0.3, random_state=42)\n",
        "model = CatBoostClassifier(\n",
        "    n_estimators = 156,\n",
        "    depth = 6,\n",
        "    learning_rate = 0.1,\n",
        "    l2_leaf_reg = 4,\n",
        "    custom_loss=['Accuracy'],\n",
        "    random_seed=42,\n",
        "    logging_level='Silent'\n",
        ")\n",
        "model.fit(\n",
        "    X_train_d, y_train_d,\n",
        "    eval_set=(X_test_d, y_test_d),\n",
        ");\n",
        "predictions = model.predict(X_test_d)\n",
        "print(\"Confusion Matrix:\")\n",
        "print(confusion_matrix(y_test_d, predictions))\n",
        "print(\"Classification Report\")\n",
        "print(classification_report(y_test_d, predictions))\n",
        "\n",
        "fi = model.get_feature_importance(Pool(X_test_d, label=y_test_d))\n",
        "feature_score = pd.DataFrame(list(zip(X_test_d.dtypes.index, fi )), columns=['Feature','Score'])\n",
        "feature_score = feature_score.sort_values(by='Score', ascending=False, inplace=False, kind='quicksort', na_position='last')\n",
        "plt.rcParams[\"figure.figsize\"] = (18,7)\n",
        "ax = feature_score.plot('Feature', 'Score', kind='bar', color='c')\n",
        "ax.set_title(\"REALEC, 41 features\", fontsize = 14)\n",
        "ax.set_xlabel(\"features\")\n",
        "plt.show()"
      ],
      "execution_count": 110,
      "outputs": [
        {
          "output_type": "stream",
          "text": [
            "Confusion Matrix:\n",
            "[[ 79 181   1]\n",
            " [ 37 510   8]\n",
            " [  0  20  23]]\n",
            "Classification Report\n",
            "              precision    recall  f1-score   support\n",
            "\n",
            "           A       0.68      0.30      0.42       261\n",
            "           B       0.72      0.92      0.81       555\n",
            "           C       0.72      0.53      0.61        43\n",
            "\n",
            "    accuracy                           0.71       859\n",
            "   macro avg       0.71      0.59      0.61       859\n",
            "weighted avg       0.71      0.71      0.68       859\n",
            "\n"
          ],
          "name": "stdout"
        },
        {
          "output_type": "display_data",
          "data": {
            "image/png": "[encoded data removed]",
            "text/plain": [
              "<Figure size 1296x504 with 1 Axes>"
            ]
          },
          "metadata": {
            "tags": [],
            "needs_background": "light"
          }
        }
      ]
    },
    {
      "cell_type": "markdown",
      "metadata": {
        "id": "917aOG723TNW",
        "colab_type": "text"
      },
      "source": [
        "**Модель для 5 черт сложности на данных REALEC**"
      ]
    },
    {
      "cell_type": "code",
      "metadata": {
        "id": "1JtkPhxMoAkI",
        "colab_type": "code",
        "colab": {
          "base_uri": "https://localhost:8080/",
          "height": 799
        },
        "outputId": "548e6203-fbe6-4be4-fa35-315ee410e8ba"
      },
      "source": [
        "best = ['num_tok','result_spelling','av_tok_before_root','nv','av_len_sent', 'random']\n",
        "for i in X.columns:\n",
        "  if i not in best:\n",
        "    X = X.drop(i, 1)\n",
        "X_train_d, X_test_d, y_train, y_test = train_test_split(X, y, test_size=0.3, random_state=42)\n",
        "model = CatBoostClassifier(\n",
        "    n_estimators = 96,\n",
        "    depth = 9,\n",
        "    learning_rate = 0.05,\n",
        "    l2_leaf_reg = 1,\n",
        "    custom_loss=['Accuracy'],\n",
        "    random_seed=42,\n",
        "    logging_level='Silent'\n",
        ")\n",
        "model.fit(\n",
        "    X_train_d, y_train,\n",
        "    eval_set=(X_test_d, y_test),\n",
        ");\n",
        "predictions = model.predict(X_test_d)\n",
        "print(\"Confusion Matrix:\")\n",
        "print(confusion_matrix(y_test, predictions))\n",
        "print(\"Classification Report\")\n",
        "print(classification_report(y_test, predictions))\n",
        "\n",
        "fi = model.get_feature_importance(Pool(X_test_d, label=y_test_d))\n",
        "feature_score = pd.DataFrame(list(zip(X_test_d.dtypes.index, fi )), columns=['Feature','Score'])\n",
        "feature_score = feature_score.sort_values(by='Score', ascending=False, inplace=False, kind='quicksort', na_position='last')\n",
        "plt.rcParams[\"figure.figsize\"] = (18,7)\n",
        "ax = feature_score.plot('Feature', 'Score', kind='bar', color='c')\n",
        "ax.set_title(\"REALEC, 5 features\", fontsize = 14)\n",
        "ax.set_xlabel(\"features\")\n",
        "plt.show()"
      ],
      "execution_count": 102,
      "outputs": [
        {
          "output_type": "stream",
          "text": [
            "Confusion Matrix:\n",
            "[[ 61 200   0]\n",
            " [ 42 506   7]\n",
            " [  0  22  21]]\n",
            "Classification Report\n",
            "              precision    recall  f1-score   support\n",
            "\n",
            "           A       0.59      0.23      0.34       261\n",
            "           B       0.70      0.91      0.79       555\n",
            "           C       0.75      0.49      0.59        43\n",
            "\n",
            "    accuracy                           0.68       859\n",
            "   macro avg       0.68      0.54      0.57       859\n",
            "weighted avg       0.67      0.68      0.64       859\n",
            "\n"
          ],
          "name": "stdout"
        },
        {
          "output_type": "display_data",
          "data": {
            "image/png": "[encoded data removed]",
            "text/plain": [
              "<Figure size 1296x504 with 1 Axes>"
            ]
          },
          "metadata": {
            "tags": [],
            "needs_background": "light"
          }
        }
      ]
    },
    {
      "cell_type": "markdown",
      "metadata": {
        "id": "Ap1GKpcj3YHi",
        "colab_type": "text"
      },
      "source": [
        "**Модель для 1 черты сложности на данных REALEC**"
      ]
    },
    {
      "cell_type": "code",
      "metadata": {
        "id": "Sef3V0LOpICz",
        "colab_type": "code",
        "colab": {
          "base_uri": "https://localhost:8080/",
          "height": 272
        },
        "outputId": "285e24de-8abf-42a2-d8af-6c67f8c5e9bf"
      },
      "source": [
        "best = ['num_tok']\n",
        "for i in X.columns:\n",
        "  if i not in best:\n",
        "    X = X.drop(i, 1)\n",
        "X_train_d, X_test_d, y_train, y_test = train_test_split(X, y, test_size=0.3, random_state=42)\n",
        "model = CatBoostClassifier(\n",
        "    n_estimators = 96,\n",
        "    depth = 9,\n",
        "    learning_rate = 0.05,\n",
        "    l2_leaf_reg = 1,\n",
        "    custom_loss=['Accuracy'],\n",
        "    random_seed=42,\n",
        "    logging_level='Silent'\n",
        ")\n",
        "model.fit(\n",
        "    X_train_d, y_train,\n",
        "    eval_set=(X_test_d, y_test),\n",
        ");\n",
        "predictions = model.predict(X_test_d)\n",
        "print(\"Confusion Matrix:\")\n",
        "print(confusion_matrix(y_test, predictions))\n",
        "\n",
        "print(\"Classification Report\")\n",
        "print(classification_report(y_test, predictions))"
      ],
      "execution_count": 103,
      "outputs": [
        {
          "output_type": "stream",
          "text": [
            "Confusion Matrix:\n",
            "[[ 44 217   0]\n",
            " [ 32 512  11]\n",
            " [  0  19  24]]\n",
            "Classification Report\n",
            "              precision    recall  f1-score   support\n",
            "\n",
            "           A       0.58      0.17      0.26       261\n",
            "           B       0.68      0.92      0.79       555\n",
            "           C       0.69      0.56      0.62        43\n",
            "\n",
            "    accuracy                           0.68       859\n",
            "   macro avg       0.65      0.55      0.55       859\n",
            "weighted avg       0.65      0.68      0.62       859\n",
            "\n"
          ],
          "name": "stdout"
        }
      ]
    },
    {
      "cell_type": "markdown",
      "metadata": {
        "id": "65_UpNzJ3Wc-",
        "colab_type": "text"
      },
      "source": [
        "Загружаем и обрабатываем файлы с данными для всех текстов реалек уровней 7-16. Делим данные на две группы: эссе, написанные русскоязычными студентами и все прочие эссе."
      ]
    },
    {
      "cell_type": "code",
      "metadata": {
        "id": "xsXn8NuAqOnA",
        "colab_type": "code",
        "colab": {}
      },
      "source": [
        "ef1 = pd.read_excel('/content/drive/My Drive/efcamdat_proc70.xlsx')\n",
        "ef_low = pd.read_excel('/content/drive/My Drive/efcamdat_proc_low.xlsx')\n",
        "ef_full = pd.concat([ef1, ef_low], ignore_index=True)\n",
        "ef = ef_full[ef_full['level'] != 16]\n",
        "ef_ru = ef.loc[ef['nation'] == 'ru']\n",
        "ef_other = ef.loc[ef['nation'] != 'ru']\n",
        "ef_other = ef_other.drop('Unnamed: 0', axis=1)\n",
        "ef_other = ef_other.drop('Unnamed: 0.1', axis=1)\n",
        "ef_other = ef_other.drop('id', axis=1)\n",
        "ef_other = ef_other.drop('grade', axis=1)\n",
        "ef_other = ef_other.drop('topic', axis=1)\n",
        "ef_other = ef_other.drop('date', axis=1)\n",
        "ef_other = ef_other.drop('learner_id', axis=1)\n",
        "ef_other = ef_other.drop('nation', axis=1)\n",
        "ef_other = ef_other.drop('text', axis=1)\n",
        "ef_ru = ef_ru.drop('Unnamed: 0', axis=1)\n",
        "ef_ru = ef_ru.drop('Unnamed: 0.1', axis=1)\n",
        "ef_ru = ef_ru.drop('id', axis=1)\n",
        "ef_ru = ef_ru.drop('grade', axis=1)\n",
        "ef_ru = ef_ru.drop('topic', axis=1)\n",
        "ef_ru = ef_ru.drop('date', axis=1)\n",
        "ef_ru = ef_ru.drop('learner_id', axis=1)\n",
        "ef_ru = ef_ru.drop('nation', axis=1)\n",
        "ef_ru = ef_ru.drop('text', axis=1)"
      ],
      "execution_count": 0,
      "outputs": []
    },
    {
      "cell_type": "markdown",
      "metadata": {
        "id": "t9_Vq0tY3xto",
        "colab_type": "text"
      },
      "source": [
        "Переводим оценки из 16-уровневой шкалы в шкалу CEFR"
      ]
    },
    {
      "cell_type": "code",
      "metadata": {
        "id": "uYp1Z8KYqfij",
        "colab_type": "code",
        "colab": {
          "base_uri": "https://localhost:8080/",
          "height": 660,
          "referenced_widgets": [
            "7b583e1586b246f790c1b1b876b109d7",
            "b24ba0c8a6fe45928cedb1b56396c538",
            "b88ae614eb3a4fccb27e3ade5b0c3410",
            "6e218ff892d7427397a91848c42ba8d6",
            "608a7eecd876404d83bfd90c29b59113",
            "127b809946a64508a12e9b473d167650",
            "e812fb4a8caa485eaf24a2918e97b87a",
            "8b47b76f3e8742dd94b06660f0e3badc"
          ]
        },
        "outputId": "828107ac-9c6c-4fff-e08f-2a3bc303c720"
      },
      "source": [
        "for i in tqdm(ef_ru.index.values.tolist()):\n",
        "      if ef_ru.loc[i, 'level'] < 10: \n",
        "        ef_ru.loc[i, 'level'] = 'B1'\n",
        "      elif ef_ru.loc[i, 'level'] < 13 and ef_ru.loc[i, 'level'] > 9:\n",
        "        ef_ru.loc[i, 'level'] = 'B2'\n",
        "      elif ef_ru.loc[i, 'level'] < 16 and ef_ru.loc[i, 'level'] > 12:\n",
        "        ef_ru.loc[i, 'level'] = 'C1'"
      ],
      "execution_count": 54,
      "outputs": [
        {
          "output_type": "stream",
          "text": [
            "/usr/local/lib/python3.6/dist-packages/ipykernel_launcher.py:1: TqdmDeprecationWarning: This function will be removed in tqdm==5.0.0\n",
            "Please use `tqdm.notebook.tqdm` instead of `tqdm.tqdm_notebook`\n",
            "  \"\"\"Entry point for launching an IPython kernel.\n"
          ],
          "name": "stderr"
        },
        {
          "output_type": "display_data",
          "data": {
            "application/vnd.jupyter.widget-view+json": {
              "model_id": "7b583e1586b246f790c1b1b876b109d7",
              "version_minor": 0,
              "version_major": 2
            },
            "text/plain": [
              "HBox(children=(FloatProgress(value=0.0, max=17331.0), HTML(value='')))"
            ]
          },
          "metadata": {
            "tags": []
          }
        },
        {
          "output_type": "stream",
          "text": [
            "\n"
          ],
          "name": "stdout"
        }
      ]
    },
    {
      "cell_type": "code",
      "metadata": {
        "id": "mIEkaP45qib0",
        "colab_type": "code",
        "colab": {
          "base_uri": "https://localhost:8080/",
          "height": 1000,
          "referenced_widgets": [
            "06c3fbb8859d46e49687f5f2388b7b2f",
            "544ee5f961cd4aedb235d5eaf95c4a53",
            "e901c3a979514ba98b43d2f865e2e4c0",
            "47a26c3237b549cd8d05a4530facde88",
            "cc1e690b5788490ba8fbac393ab954aa",
            "2eab80df42da43d191d5bfec53692117",
            "91b296f0bcc44175a7876e3411176307",
            "064fe09f352d4bccbe0d2be630a70c4c"
          ]
        },
        "outputId": "92de459c-d56f-45b0-f426-8284c747b76c"
      },
      "source": [
        "for i in tqdm(ef_other.index.values.tolist()):\n",
        "      if ef_other.loc[i, 'level'] < 10: \n",
        "        ef_other.loc[i, 'level'] = 'B1'\n",
        "      elif ef_other.loc[i, 'level'] < 13 and ef_other.loc[i, 'level'] > 9:\n",
        "        ef_other.loc[i, 'level'] = 'B2'\n",
        "      elif ef_other.loc[i, 'level'] < 16 and ef_other.loc[i, 'level'] > 12:\n",
        "        ef_other.loc[i, 'level'] = 'C1'"
      ],
      "execution_count": 55,
      "outputs": [
        {
          "output_type": "stream",
          "text": [
            "/usr/local/lib/python3.6/dist-packages/ipykernel_launcher.py:1: TqdmDeprecationWarning: This function will be removed in tqdm==5.0.0\n",
            "Please use `tqdm.notebook.tqdm` instead of `tqdm.tqdm_notebook`\n",
            "  \"\"\"Entry point for launching an IPython kernel.\n"
          ],
          "name": "stderr"
        },
        {
          "output_type": "display_data",
          "data": {
            "application/vnd.jupyter.widget-view+json": {
              "model_id": "06c3fbb8859d46e49687f5f2388b7b2f",
              "version_minor": 0,
              "version_major": 2
            },
            "text/plain": [
              "HBox(children=(FloatProgress(value=0.0, max=217655.0), HTML(value='')))"
            ]
          },
          "metadata": {
            "tags": []
          }
        },
        {
          "output_type": "stream",
          "text": [
            "\n"
          ],
          "name": "stdout"
        }
      ]
    },
    {
      "cell_type": "markdown",
      "metadata": {
        "id": "5QxQqriO39ho",
        "colab_type": "text"
      },
      "source": [
        "Разбиваем данные на тренировочную и тестовую выборку, добавляем случайную черту."
      ]
    },
    {
      "cell_type": "code",
      "metadata": {
        "id": "Bo0QYy4-qkxF",
        "colab_type": "code",
        "colab": {}
      },
      "source": [
        "columns = ef_ru.columns[1:]\n",
        "X_ru = ef_ru[columns]\n",
        "X_ru['random'] = np.random.random(size = len(X_ru))\n",
        "y_ru = ef_ru['level']\n",
        "X_train_ru, X_test_ru, y_train_ru, y_test_ru = train_test_split(X_ru, y_ru, test_size=0.3, random_state=42)\n",
        "X_oth = ef_other[columns]\n",
        "X_oth['random'] = np.random.random(size = len(X_oth))\n",
        "y_oth = ef_other['level']\n",
        "X_train_oth, X_test_oth, y_train_oth, y_test_oth = train_test_split(X_oth, y_oth, test_size=0.3, random_state=42)"
      ],
      "execution_count": 0,
      "outputs": []
    },
    {
      "cell_type": "markdown",
      "metadata": {
        "id": "ViKbJwxh3-_s",
        "colab_type": "text"
      },
      "source": [
        "**Модель для 66 черт сложности на данных EfCamDat, русскоговорящие студенты**"
      ]
    },
    {
      "cell_type": "code",
      "metadata": {
        "id": "5Ec0DVVptw-T",
        "colab_type": "code",
        "colab": {
          "base_uri": "https://localhost:8080/",
          "height": 823
        },
        "outputId": "ff775529-b59f-4f08-ee2c-7f81ff9f1843"
      },
      "source": [
        "model = CatBoostClassifier(\n",
        "    n_estimators = 786,\n",
        "    depth = 6,\n",
        "    learning_rate = 0.2,\n",
        "    l2_leaf_reg = 4,\n",
        "    custom_loss=['Accuracy'],\n",
        "    random_seed=42,\n",
        "    logging_level='Silent'\n",
        ")\n",
        "model.fit(\n",
        "    X_train_ru, y_train_ru,\n",
        "    eval_set=(X_test_ru, y_test_ru),\n",
        ");\n",
        "predictions = model.predict(X_test_ru)\n",
        "print(\"Confusion Matrix:\")\n",
        "print(confusion_matrix(y_test_ru, predictions))\n",
        "print(\"Classification Report\")\n",
        "print(classification_report(y_test_ru, predictions))\n",
        "\n",
        "fi = model.get_feature_importance(Pool(X_test_ru, label=y_test_ru))\n",
        "feature_score = pd.DataFrame(list(zip(X_test_ru.dtypes.index, fi )), columns=['Feature','Score'])\n",
        "feature_score = feature_score.sort_values(by='Score', ascending=False, inplace=False, kind='quicksort', na_position='last')\n",
        "plt.rcParams[\"figure.figsize\"] = (20,7)\n",
        "ax = feature_score.plot('Feature', 'Score', kind='bar', color='c')\n",
        "ax.set_title(\"EfCamDat, Russian learners\", fontsize = 14)\n",
        "ax.set_xlabel(\"features\")\n",
        "plt.show()"
      ],
      "execution_count": 58,
      "outputs": [
        {
          "output_type": "stream",
          "text": [
            "Confusion Matrix:\n",
            "[[3466  185   27]\n",
            " [ 398  745   60]\n",
            " [  93  108  118]]\n",
            "Classification Report\n",
            "              precision    recall  f1-score   support\n",
            "\n",
            "          B1       0.88      0.94      0.91      3678\n",
            "          B2       0.72      0.62      0.66      1203\n",
            "          C1       0.58      0.37      0.45       319\n",
            "\n",
            "    accuracy                           0.83      5200\n",
            "   macro avg       0.72      0.64      0.67      5200\n",
            "weighted avg       0.82      0.83      0.82      5200\n",
            "\n"
          ],
          "name": "stdout"
        },
        {
          "output_type": "display_data",
          "data": {
            "image/png": "[encoded data removed]",
            "text/plain": [
              "<Figure size 1440x504 with 1 Axes>"
            ]
          },
          "metadata": {
            "tags": [],
            "needs_background": "light"
          }
        }
      ]
    },
    {
      "cell_type": "markdown",
      "metadata": {
        "id": "jQ3cZEB_4LNT",
        "colab_type": "text"
      },
      "source": [
        "**Модель для 41 черты сложности на данных EfCamDat, русскоговорящие студенты**"
      ]
    },
    {
      "cell_type": "code",
      "metadata": {
        "id": "yDk6d-4xuG6m",
        "colab_type": "code",
        "colab": {
          "base_uri": "https://localhost:8080/",
          "height": 799
        },
        "outputId": "efe38cce-e32f-4bee-8ba8-75f9c5337034"
      },
      "source": [
        "removed = ['lv',  'num_rel_cl','num_advcl','pos_sim_nei','pos_sim_all', 'lemma_sim_all', 'lfp_2000', \n",
        "           'lfp_rest', 'adjv', 'advv', 'num_4grams', 'ttr', 'root_ttr', 'log_ttr', 'uber_ttr', 'd',\n",
        "           'vvi', 'squared_vv', 'vvii', 'lfp_uwl', 'vs', 'squared_vs','num_tu','num_compl_tu','num_misspelled_tokens','million_mistake',\n",
        "           'num_sent', 'ndw', 'num_cl', 'num_func_ngrams']\n",
        "for i in removed:\n",
        "  X_ru = X_ru.drop(i, 1)\n",
        "X_train_ru_d, X_test_ru_d, y_train_ru_d, y_test_ru_d = train_test_split(X_ru, y_ru, test_size=0.33, random_state=42)\n",
        "model = CatBoostClassifier(\n",
        "    n_estimators = 786,\n",
        "    depth = 6,\n",
        "    learning_rate = 0.2,\n",
        "    l2_leaf_reg = 4,\n",
        "    custom_loss=['Accuracy'],\n",
        "    random_seed=42,\n",
        "    logging_level='Silent'\n",
        ")\n",
        "model.fit(\n",
        "    X_train_ru_d, y_train_ru_d,\n",
        "    eval_set=(X_test_ru_d, y_test_ru_d),\n",
        ");\n",
        "predictions = model.predict(X_test_ru_d)\n",
        "print(\"Confusion Matrix:\")\n",
        "print(confusion_matrix(y_test_ru_d, predictions))\n",
        "print(\"Classification Report\")\n",
        "print(classification_report(y_test_ru_d, predictions))\n",
        "\n",
        "fi = model.get_feature_importance(Pool(X_test_ru_d, label=y_test_ru_d))\n",
        "feature_score = pd.DataFrame(list(zip(X_test_ru_d.dtypes.index, fi )), columns=['Feature','Score'])\n",
        "feature_score = feature_score.sort_values(by='Score', ascending=False, inplace=False, kind='quicksort', na_position='last')\n",
        "plt.rcParams[\"figure.figsize\"] = (20,7)\n",
        "ax = feature_score.plot('Feature', 'Score', kind='bar', color='c')\n",
        "ax.set_title(\"EfCamDat, Russian learners\", fontsize = 14)\n",
        "ax.set_xlabel(\"features\")\n",
        "plt.show()"
      ],
      "execution_count": 59,
      "outputs": [
        {
          "output_type": "stream",
          "text": [
            "Confusion Matrix:\n",
            "[[3815  192   35]\n",
            " [ 428  831   67]\n",
            " [ 111  117  124]]\n",
            "Classification Report\n",
            "              precision    recall  f1-score   support\n",
            "\n",
            "          B1       0.88      0.94      0.91      4042\n",
            "          B2       0.73      0.63      0.67      1326\n",
            "          C1       0.55      0.35      0.43       352\n",
            "\n",
            "    accuracy                           0.83      5720\n",
            "   macro avg       0.72      0.64      0.67      5720\n",
            "weighted avg       0.82      0.83      0.82      5720\n",
            "\n"
          ],
          "name": "stdout"
        },
        {
          "output_type": "display_data",
          "data": {
            "image/png": "[encoded data removed]",
            "text/plain": [
              "<Figure size 1440x504 with 1 Axes>"
            ]
          },
          "metadata": {
            "tags": [],
            "needs_background": "light"
          }
        }
      ]
    },
    {
      "cell_type": "markdown",
      "metadata": {
        "id": "q8bMGVP04V2y",
        "colab_type": "text"
      },
      "source": [
        "**Модель для 5 черт сложности на данных EfCamDat, русские студенты**"
      ]
    },
    {
      "cell_type": "code",
      "metadata": {
        "id": "4a5MQuYVuHGm",
        "colab_type": "code",
        "colab": {
          "base_uri": "https://localhost:8080/",
          "height": 791
        },
        "outputId": "13569558-3464-4ad4-883a-292b15918146"
      },
      "source": [
        "best = ['num_tok', 'num_past_simple','num_aca','nv','ls', 'random']\n",
        "for i in X_ru.columns:\n",
        "  if i not in best:\n",
        "    X_ru = X_ru.drop(i, 1)\n",
        "X_train_ru_d, X_test_ru_d, y_train_ru_d, y_test_ru_d = train_test_split(X_ru, y_ru, test_size=0.3, random_state=42)\n",
        "model = CatBoostClassifier(\n",
        "    n_estimators = 786,\n",
        "    depth = 6,\n",
        "    learning_rate = 0.2,\n",
        "    l2_leaf_reg = 4,\n",
        "    custom_loss=['Accuracy'],\n",
        "    random_seed=42,\n",
        "    logging_level='Silent'\n",
        ")\n",
        "model.fit(\n",
        "    X_train_ru_d, y_train_ru_d,\n",
        "    eval_set=(X_test_ru_d, y_test_ru_d),\n",
        ");\n",
        "predictions = model.predict(X_test_ru_d)\n",
        "print(\"Confusion Matrix:\")\n",
        "print(confusion_matrix(y_test_ru_d, predictions))\n",
        "print(\"Classification Report\")\n",
        "print(classification_report(y_test_ru_d, predictions))\n",
        "\n",
        "fi = model.get_feature_importance(Pool(X_test_ru_d, label=y_test_ru_d))\n",
        "feature_score = pd.DataFrame(list(zip(X_test_ru_d.dtypes.index, fi )), columns=['Feature','Score'])\n",
        "feature_score = feature_score.sort_values(by='Score', ascending=False, inplace=False, kind='quicksort', na_position='last')\n",
        "plt.rcParams[\"figure.figsize\"] = (20,7)\n",
        "ax = feature_score.plot('Feature', 'Score', kind='bar', color='c')\n",
        "ax.set_title(\"EfCamDat, Russian learners, 5 features\", fontsize = 14)\n",
        "ax.set_xlabel(\"features\")\n",
        "plt.show()"
      ],
      "execution_count": 114,
      "outputs": [
        {
          "output_type": "stream",
          "text": [
            "Confusion Matrix:\n",
            "[[3425  232   21]\n",
            " [ 517  635   51]\n",
            " [ 111  137   71]]\n",
            "Classification Report\n",
            "              precision    recall  f1-score   support\n",
            "\n",
            "          B1       0.85      0.93      0.89      3678\n",
            "          B2       0.63      0.53      0.58      1203\n",
            "          C1       0.50      0.22      0.31       319\n",
            "\n",
            "    accuracy                           0.79      5200\n",
            "   macro avg       0.66      0.56      0.59      5200\n",
            "weighted avg       0.77      0.79      0.78      5200\n",
            "\n"
          ],
          "name": "stdout"
        },
        {
          "output_type": "display_data",
          "data": {
            "image/png": "[encoded data removed]",
            "text/plain": [
              "<Figure size 1440x504 with 1 Axes>"
            ]
          },
          "metadata": {
            "tags": [],
            "needs_background": "light"
          }
        }
      ]
    },
    {
      "cell_type": "markdown",
      "metadata": {
        "id": "h9AruTqZ4XoH",
        "colab_type": "text"
      },
      "source": [
        "**Модель для 1 черты сложности на данных EfCamDat, русские студенты**"
      ]
    },
    {
      "cell_type": "code",
      "metadata": {
        "id": "Q3zRngmFuHPN",
        "colab_type": "code",
        "colab": {
          "base_uri": "https://localhost:8080/",
          "height": 272
        },
        "outputId": "628ecce8-e015-41e0-95fb-81c016d2e4c6"
      },
      "source": [
        "best = ['num_tok']\n",
        "for i in X_ru.columns:\n",
        "  if i not in best:\n",
        "    X_ru = X_ru.drop(i, 1)\n",
        "X_train_ru_d, X_test_ru_d, y_train_ru_d, y_test_ru_d = train_test_split(X_ru, y_ru, test_size=0.3, random_state=42)\n",
        "model = CatBoostClassifier(\n",
        "    n_estimators = 76,\n",
        "    depth = 6,\n",
        "    learning_rate = 0.2,\n",
        "    l2_leaf_reg = 4,\n",
        "    custom_loss=['Accuracy'],\n",
        "    random_seed=42,\n",
        "    logging_level='Silent'\n",
        ")\n",
        "model.fit(\n",
        "    X_train_ru_d, y_train_ru_d,\n",
        "    eval_set=(X_test_ru_d, y_test_ru_d),\n",
        ");\n",
        "predictions = model.predict(X_test_ru_d)\n",
        "print(\"Confusion Matrix:\")\n",
        "print(confusion_matrix(y_test_ru_d, predictions))\n",
        "print(\"Classification Report\")\n",
        "print(classification_report(y_test_ru_d, predictions))"
      ],
      "execution_count": 69,
      "outputs": [
        {
          "output_type": "stream",
          "text": [
            "Confusion Matrix:\n",
            "[[3443  234    1]\n",
            " [ 672  525    6]\n",
            " [ 112  204    3]]\n",
            "Classification Report\n",
            "              precision    recall  f1-score   support\n",
            "\n",
            "          B1       0.81      0.94      0.87      3678\n",
            "          B2       0.55      0.44      0.48      1203\n",
            "          C1       0.30      0.01      0.02       319\n",
            "\n",
            "    accuracy                           0.76      5200\n",
            "   macro avg       0.55      0.46      0.46      5200\n",
            "weighted avg       0.72      0.76      0.73      5200\n",
            "\n"
          ],
          "name": "stdout"
        }
      ]
    },
    {
      "cell_type": "markdown",
      "metadata": {
        "id": "IbWdxo8b4aP4",
        "colab_type": "text"
      },
      "source": [
        "**Модель для 66 черт сложности на данных EfCamDat, остальные студенты**"
      ]
    },
    {
      "cell_type": "code",
      "metadata": {
        "id": "onIAAOqvqrrL",
        "colab_type": "code",
        "colab": {
          "base_uri": "https://localhost:8080/",
          "height": 823
        },
        "outputId": "1cca6dee-9df3-4cf9-c435-d34cfdfacd98"
      },
      "source": [
        "model = CatBoostClassifier(\n",
        "    n_estimators = 654,\n",
        "    depth = 6,\n",
        "    learning_rate = 0.2,\n",
        "    l2_leaf_reg = 4,\n",
        "    custom_loss=['Accuracy'],\n",
        "    random_seed=42,\n",
        "    logging_level='Silent'\n",
        ")\n",
        "model.fit(\n",
        "    X_train_oth, y_train_oth,\n",
        "    eval_set=(X_test_oth, y_test_oth),\n",
        ");\n",
        "predictions = model.predict(X_test_oth)\n",
        "print(\"Confusion Matrix:\")\n",
        "print(confusion_matrix(y_test_oth, predictions))\n",
        "print(\"Classification Report\")\n",
        "print(classification_report(y_test_oth, predictions))\n",
        "\n",
        "fi = model.get_feature_importance(Pool(X_test_oth, label=y_test_oth))\n",
        "feature_score = pd.DataFrame(list(zip(X_test_oth.dtypes.index, fi )), columns=['Feature','Score'])\n",
        "feature_score = feature_score.sort_values(by='Score', ascending=False, inplace=False, kind='quicksort', na_position='last')\n",
        "plt.rcParams[\"figure.figsize\"] = (20,7)\n",
        "ax = feature_score.plot('Feature', 'Score', kind='bar', color='c')\n",
        "ax.set_title(\"EfCamDat, other learners, 66 features\", fontsize = 14)\n",
        "ax.set_xlabel(\"features\")\n",
        "plt.show()"
      ],
      "execution_count": 105,
      "outputs": [
        {
          "output_type": "stream",
          "text": [
            "Confusion Matrix:\n",
            "[[44777  1748   255]\n",
            " [ 4796  9074   652]\n",
            " [ 1132  1143  1720]]\n",
            "Classification Report\n",
            "              precision    recall  f1-score   support\n",
            "\n",
            "          B1       0.88      0.96      0.92     46780\n",
            "          B2       0.76      0.62      0.69     14522\n",
            "          C1       0.65      0.43      0.52      3995\n",
            "\n",
            "    accuracy                           0.85     65297\n",
            "   macro avg       0.77      0.67      0.71     65297\n",
            "weighted avg       0.84      0.85      0.84     65297\n",
            "\n"
          ],
          "name": "stdout"
        },
        {
          "output_type": "display_data",
          "data": {
            "image/png": "[encoded data removed]",
            "text/plain": [
              "<Figure size 1440x504 with 1 Axes>"
            ]
          },
          "metadata": {
            "tags": [],
            "needs_background": "light"
          }
        }
      ]
    },
    {
      "cell_type": "markdown",
      "metadata": {
        "id": "SmppLmTB4fGj",
        "colab_type": "text"
      },
      "source": [
        "**Модель для 41 черты сложности на данных EfCamDat, остальные студенты**"
      ]
    },
    {
      "cell_type": "code",
      "metadata": {
        "id": "wGA6KBNutsYx",
        "colab_type": "code",
        "colab": {
          "base_uri": "https://localhost:8080/",
          "height": 799
        },
        "outputId": "9b313664-d60a-4fa6-f75a-0008699a8b17"
      },
      "source": [
        "removed = ['lv',  'num_rel_cl','num_advcl','pos_sim_nei','pos_sim_all', 'lemma_sim_all', 'lfp_2000', \n",
        "           'lfp_rest', 'adjv', 'advv', 'num_4grams', 'ttr', 'root_ttr', 'log_ttr', 'uber_ttr', 'd',\n",
        "           'vvi', 'squared_vv', 'vvii', 'lfp_uwl', 'vs', 'squared_vs','num_tu','num_compl_tu','num_misspelled_tokens','million_mistake',\n",
        "           'num_sent', 'ndw', 'num_cl', 'num_func_ngrams']\n",
        "for i in removed:\n",
        "  X_oth = X_oth.drop(i, 1)\n",
        "X_train_oth_d, X_test_oth_d, y_train_oth_d, y_test_oth_d = train_test_split(X_oth, y_oth, test_size=0.33, random_state=42)\n",
        "model = CatBoostClassifier(\n",
        "    n_estimators = 654,\n",
        "    depth = 6,\n",
        "    learning_rate = 0.2,\n",
        "    l2_leaf_reg = 4,\n",
        "    custom_loss=['Accuracy'],\n",
        "    random_seed=42,\n",
        "    logging_level='Silent'\n",
        ")\n",
        "model.fit(\n",
        "    X_train_oth_d, y_train_oth_d,\n",
        "    eval_set=(X_test_oth_d, y_test_oth_d),\n",
        ");\n",
        "predictions = model.predict(X_test_oth_d)\n",
        "print(\"Confusion Matrix:\")\n",
        "print(confusion_matrix(y_test_oth_d, predictions))\n",
        "print(\"Classification Report\")\n",
        "print(classification_report(y_test_oth_d, predictions))\n",
        "\n",
        "fi = model.get_feature_importance(Pool(X_test_oth_d, label=y_test_oth_d))\n",
        "feature_score = pd.DataFrame(list(zip(X_test_oth_d.dtypes.index, fi )), columns=['Feature','Score'])\n",
        "feature_score = feature_score.sort_values(by='Score', ascending=False, inplace=False, kind='quicksort', na_position='last')\n",
        "plt.rcParams[\"figure.figsize\"] = (20,7)\n",
        "ax = feature_score.plot('Feature', 'Score', kind='bar', color='c')\n",
        "ax.set_title(\"EfCamDat, other learners, 4 features\", fontsize = 14)\n",
        "ax.set_xlabel(\"features\")\n",
        "plt.show()"
      ],
      "execution_count": 113,
      "outputs": [
        {
          "output_type": "stream",
          "text": [
            "Confusion Matrix:\n",
            "[[49076  2062   258]\n",
            " [ 5386  9921   693]\n",
            " [ 1254  1328  1849]]\n",
            "Classification Report\n",
            "              precision    recall  f1-score   support\n",
            "\n",
            "          B1       0.88      0.95      0.92     51396\n",
            "          B2       0.75      0.62      0.68     16000\n",
            "          C1       0.66      0.42      0.51      4431\n",
            "\n",
            "    accuracy                           0.85     71827\n",
            "   macro avg       0.76      0.66      0.70     71827\n",
            "weighted avg       0.84      0.85      0.84     71827\n",
            "\n"
          ],
          "name": "stdout"
        },
        {
          "output_type": "display_data",
          "data": {
            "image/png": "[encoded data removed]",
            "text/plain": [
              "<Figure size 1440x504 with 1 Axes>"
            ]
          },
          "metadata": {
            "tags": [],
            "needs_background": "light"
          }
        }
      ]
    },
    {
      "cell_type": "markdown",
      "metadata": {
        "id": "dL0JSKJD4pID",
        "colab_type": "text"
      },
      "source": [
        "**Модель для 5 черт сложности на данных EfCamDat, остальные студенты**"
      ]
    },
    {
      "cell_type": "code",
      "metadata": {
        "id": "nbLfLPR3xrDg",
        "colab_type": "code",
        "colab": {}
      },
      "source": [
        "best = ['num_tok', 'num_past_simple','num_aca','nv','ls', 'random']\n",
        "for i in X_oth.columns:\n",
        "  if i not in best:\n",
        "    X_oth = X_oth.drop(i, 1)\n",
        "X_train_oth_d, X_test_oth_d, y_train_oth_d, y_test_oth_d = train_test_split(X_oth, y_oth, test_size=0.33, random_state=42)\n",
        "model = CatBoostClassifier(\n",
        "    n_estimators = 354,\n",
        "    depth = 6,\n",
        "    learning_rate = 0.2,\n",
        "    l2_leaf_reg = 4,\n",
        "    custom_loss=['Accuracy'],\n",
        "    random_seed=42,\n",
        "    logging_level='Silent'\n",
        ")\n",
        "model.fit(\n",
        "    X_train_oth_d, y_train_oth_d,\n",
        "    eval_set=(X_test_oth_d, y_test_oth_d),\n",
        ");\n",
        "predictions = model.predict(X_test_oth_d)\n",
        "print(\"Confusion Matrix:\")\n",
        "print(confusion_matrix(y_test_oth_d, predictions))\n",
        "print(\"Classification Report\")\n",
        "print(classification_report(y_test_oth_d, predictions))\n",
        "\n",
        "fi = model.get_feature_importance(Pool(X_test_oth_d, label=y_test_oth_d))\n",
        "feature_score = pd.DataFrame(list(zip(X_test_oth_d.dtypes.index, fi )), columns=['Feature','Score'])\n",
        "feature_score = feature_score.sort_values(by='Score', ascending=False, inplace=False, kind='quicksort', na_position='last')\n",
        "plt.rcParams[\"figure.figsize\"] = (20,7)\n",
        "ax = feature_score.plot('Feature', 'Score', kind='bar', color='c')\n",
        "ax.set_title(\"EfCamDat, other learners, 5 features\", fontsize = 14)\n",
        "ax.set_xlabel(\"features\")\n",
        "plt.show()"
      ],
      "execution_count": 0,
      "outputs": []
    },
    {
      "cell_type": "markdown",
      "metadata": {
        "id": "weXH9oZa4rB8",
        "colab_type": "text"
      },
      "source": [
        "**Модель для 1 черты сложности на данных EfCamDat, остальные студенты**"
      ]
    },
    {
      "cell_type": "code",
      "metadata": {
        "id": "Nh1-k63lyHFG",
        "colab_type": "code",
        "colab": {
          "base_uri": "https://localhost:8080/",
          "height": 272
        },
        "outputId": "63e80dea-9e00-40d3-9c03-6a092e17d456"
      },
      "source": [
        "best = ['num_tok']\n",
        "for i in X_oth.columns:\n",
        "  if i not in best:\n",
        "    X_oth = X_oth.drop(i, 1)\n",
        "X_train_oth_d, X_test_oth_d, y_train_oth_d, y_test_oth_d = train_test_split(X_oth, y_oth, test_size=0.33, random_state=42)\n",
        "model = CatBoostClassifier(\n",
        "    n_estimators = 354,\n",
        "    depth = 6,\n",
        "    learning_rate = 0.2,\n",
        "    l2_leaf_reg = 4,\n",
        "    custom_loss=['Accuracy'],\n",
        "    random_seed=42,\n",
        "    logging_level='Silent'\n",
        ")\n",
        "model.fit(\n",
        "    X_train_oth_d, y_train_oth_d,\n",
        "    eval_set=(X_test_oth_d, y_test_oth_d),\n",
        ");\n",
        "predictions = model.predict(X_test_oth_d)\n",
        "print(\"Confusion Matrix:\")\n",
        "print(confusion_matrix(y_test_oth_d, predictions))\n",
        "print(\"Classification Report\")\n",
        "print(classification_report(y_test_oth_d, predictions))"
      ],
      "execution_count": 76,
      "outputs": [
        {
          "output_type": "stream",
          "text": [
            "Confusion Matrix:\n",
            "[[48360  2988    48]\n",
            " [ 8734  7142   124]\n",
            " [ 1223  3105   103]]\n",
            "Classification Report\n",
            "              precision    recall  f1-score   support\n",
            "\n",
            "          B1       0.83      0.94      0.88     51396\n",
            "          B2       0.54      0.45      0.49     16000\n",
            "          C1       0.37      0.02      0.04      4431\n",
            "\n",
            "    accuracy                           0.77     71827\n",
            "   macro avg       0.58      0.47      0.47     71827\n",
            "weighted avg       0.74      0.77      0.74     71827\n",
            "\n"
          ],
          "name": "stdout"
        }
      ]
    }
  ]
}